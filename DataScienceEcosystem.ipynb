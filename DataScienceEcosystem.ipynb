{
 "cells": [
  {
   "cell_type": "markdown",
   "id": "c0cfb89b-8b27-4fbf-a96d-1b0bc254cc4a",
   "metadata": {},
   "source": [
    "# Data Science Tools and Ecosystem"
   ]
  },
  {
   "cell_type": "markdown",
   "id": "1c2a69cf-5e01-434a-bfda-5f574d7552e4",
   "metadata": {},
   "source": [
    "In this notebook, Data Science Tools and Ecosystem are summarized."
   ]
  },
  {
   "cell_type": "markdown",
   "id": "fcacb086-9099-4c03-9961-6063ca1ee874",
   "metadata": {},
   "source": [
    "Some of the popular languages that Data Scientists use are:\n",
    "\n",
    "1. Python\n",
    "2. SQL\n",
    "3. R\n",
    "4. Julia\n"
   ]
  },
  {
   "cell_type": "markdown",
   "id": "72204314-8da1-4dff-aa90-8b37dc64ebee",
   "metadata": {},
   "source": [
    "Some of the commonly used libraries used by Data Scientists include:\n",
    "\n",
    "1. Matplotlib\n",
    "2. TensorFlow\n",
    "3. NumPy\n",
    "4. Seaborn "
   ]
  },
  {
   "cell_type": "markdown",
   "id": "c26020eb-3c96-411f-8cbb-0d1a137abba3",
   "metadata": {},
   "source": [
    "|Data Science Tools|\n",
    "|------------------|\n",
    "|Hadoop|\n",
    "|Apache Spark|\n",
    "|Apache Airflow|"
   ]
  },
  {
   "cell_type": "markdown",
   "id": "1712cfa2-dcdb-496f-bb0b-f2d7fa848da4",
   "metadata": {},
   "source": [
    "### Below are a few examples of evaluating arithmetic expressions in Python"
   ]
  },
  {
   "cell_type": "code",
   "execution_count": 1,
   "id": "3cde7fc5-f540-4d70-97f7-761a50b46650",
   "metadata": {
    "tags": []
   },
   "outputs": [
    {
     "data": {
      "text/plain": [
       "17"
      ]
     },
     "execution_count": 1,
     "metadata": {},
     "output_type": "execute_result"
    }
   ],
   "source": [
    "#This a simple arithmetic expression to mutiply then add integers\n",
    "(3*4)+5"
   ]
  },
  {
   "cell_type": "code",
   "execution_count": 2,
   "id": "821888bc-ec64-4eab-b42b-04907b642a56",
   "metadata": {
    "tags": []
   },
   "outputs": [
    {
     "data": {
      "text/plain": [
       "3.3333333333333335"
      ]
     },
     "execution_count": 2,
     "metadata": {},
     "output_type": "execute_result"
    }
   ],
   "source": [
    "#This will convert 200 minutes to hours by diving by 60\n",
    "200/60"
   ]
  },
  {
   "cell_type": "markdown",
   "id": "ce155464-e235-4d1c-b771-6e1d687cc15d",
   "metadata": {},
   "source": [
    "**Objectives:**\n",
    "\n",
    "- List popular languages for Data Science\n",
    "- List popular libraries used in Data Science \n",
    "- List popular tools used in Data Science \n",
    "- Show examples of evaluating arithmetic expressions in Python\n"
   ]
  },
  {
   "cell_type": "markdown",
   "id": "ca819bb4-bd8e-4a54-aa54-65a93c0316af",
   "metadata": {
    "tags": []
   },
   "source": [
    "## Author\n",
    "Ananya "
   ]
  },
  {
   "cell_type": "code",
   "execution_count": null,
   "id": "7aab3c43-ae9e-4267-a786-a05162d930de",
   "metadata": {},
   "outputs": [],
   "source": []
  }
 ],
 "metadata": {
  "kernelspec": {
   "display_name": "Python 3 (ipykernel)",
   "language": "python",
   "name": "python3"
  },
  "language_info": {
   "codemirror_mode": {
    "name": "ipython",
    "version": 3
   },
   "file_extension": ".py",
   "mimetype": "text/x-python",
   "name": "python",
   "nbconvert_exporter": "python",
   "pygments_lexer": "ipython3",
   "version": "3.11.5"
  }
 },
 "nbformat": 4,
 "nbformat_minor": 5
}
